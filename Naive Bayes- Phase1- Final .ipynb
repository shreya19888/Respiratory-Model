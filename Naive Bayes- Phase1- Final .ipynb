{
 "cells": [
  {
   "cell_type": "code",
   "execution_count": 64,
   "metadata": {
    "collapsed": true
   },
   "outputs": [],
   "source": [
    "#Files Needed\n",
    "#training_data_phase1.csv - Normalized and Preprocessed Training Data \n",
    "#testing_data_phase1.csv - Normalized  and Preprocessed Testing Data "
   ]
  },
  {
   "cell_type": "code",
   "execution_count": 65,
   "metadata": {
    "collapsed": true
   },
   "outputs": [],
   "source": [
    "#Imports \n",
    "import numpy as np\n",
    "import pandas as pd\n",
    "import matplotlib.pyplot as plt"
   ]
  },
  {
   "cell_type": "code",
   "execution_count": 66,
   "metadata": {
    "collapsed": true
   },
   "outputs": [],
   "source": [
    "import sklearn\n",
    "training_data = pd.read_csv('training_data_phase1.csv')\n",
    "h=pd.read_csv('testing_data_phase1.csv')\n",
    "training_data.head(5)\n",
    "X =training_data.drop('SHEDDING_SC1', axis=1)"
   ]
  },
  {
   "cell_type": "code",
   "execution_count": 67,
   "metadata": {
    "collapsed": true
   },
   "outputs": [],
   "source": [
    "Y = training_data.SHEDDING_SC1\n",
    "Y = np.ravel(Y)"
   ]
  },
  {
   "cell_type": "code",
   "execution_count": 68,
   "metadata": {
    "collapsed": true
   },
   "outputs": [],
   "source": [
    "from sklearn.preprocessing import LabelEncoder\n",
    "number = LabelEncoder()\n",
    "X['GENDER'] = number.fit_transform(training_data['GENDER'].astype('str'))\n",
    "X['STUDYID'] = number.fit_transform(training_data['STUDYID'].astype('str'))\n",
    "X = X.fillna(lambda x: x.median())"
   ]
  },
  {
   "cell_type": "code",
   "execution_count": 69,
   "metadata": {
    "collapsed": false
   },
   "outputs": [
    {
     "data": {
      "text/html": [
       "<div>\n",
       "<table border=\"1\" class=\"dataframe\">\n",
       "  <thead>\n",
       "    <tr style=\"text-align: right;\">\n",
       "      <th></th>\n",
       "      <th>STUDYID</th>\n",
       "      <th>SHEDDING_SC1</th>\n",
       "      <th>GENDER</th>\n",
       "      <th>TIMEHOURS</th>\n",
       "      <th>207933_at</th>\n",
       "      <th>210446_at</th>\n",
       "      <th>203779_s_at</th>\n",
       "      <th>210395_x_at</th>\n",
       "      <th>210088_x_at</th>\n",
       "      <th>216054_x_at</th>\n",
       "      <th>...</th>\n",
       "      <th>220151_at</th>\n",
       "      <th>220486_x_at</th>\n",
       "      <th>209709_s_at</th>\n",
       "      <th>213582_at</th>\n",
       "      <th>205230_at</th>\n",
       "      <th>209958_s_at</th>\n",
       "      <th>205416_s_at</th>\n",
       "      <th>217882_at</th>\n",
       "      <th>206600_s_at</th>\n",
       "      <th>221876_at</th>\n",
       "    </tr>\n",
       "  </thead>\n",
       "  <tbody>\n",
       "    <tr>\n",
       "      <th>0</th>\n",
       "      <td>DEE1 RSV</td>\n",
       "      <td>0</td>\n",
       "      <td>Male</td>\n",
       "      <td>-24.0</td>\n",
       "      <td>0.000000</td>\n",
       "      <td>0.000000</td>\n",
       "      <td>0.000000</td>\n",
       "      <td>0.000000</td>\n",
       "      <td>0.000000</td>\n",
       "      <td>0.000000</td>\n",
       "      <td>...</td>\n",
       "      <td>0.000000</td>\n",
       "      <td>0.000000</td>\n",
       "      <td>0.000000</td>\n",
       "      <td>0.000000</td>\n",
       "      <td>0.000000</td>\n",
       "      <td>0.000000</td>\n",
       "      <td>0.000000</td>\n",
       "      <td>0.000000</td>\n",
       "      <td>0.000000</td>\n",
       "      <td>0.000000</td>\n",
       "    </tr>\n",
       "    <tr>\n",
       "      <th>1</th>\n",
       "      <td>DEE1 RSV</td>\n",
       "      <td>1</td>\n",
       "      <td>Male</td>\n",
       "      <td>-24.0</td>\n",
       "      <td>-0.230741</td>\n",
       "      <td>1.325426</td>\n",
       "      <td>-0.326484</td>\n",
       "      <td>0.324375</td>\n",
       "      <td>0.222276</td>\n",
       "      <td>0.259887</td>\n",
       "      <td>...</td>\n",
       "      <td>-0.217919</td>\n",
       "      <td>0.956177</td>\n",
       "      <td>-0.541783</td>\n",
       "      <td>0.395025</td>\n",
       "      <td>1.345264</td>\n",
       "      <td>0.034517</td>\n",
       "      <td>-0.739104</td>\n",
       "      <td>0.852830</td>\n",
       "      <td>1.506976</td>\n",
       "      <td>-0.317745</td>\n",
       "    </tr>\n",
       "    <tr>\n",
       "      <th>2</th>\n",
       "      <td>DEE1 RSV</td>\n",
       "      <td>0</td>\n",
       "      <td>Female</td>\n",
       "      <td>-24.0</td>\n",
       "      <td>0.047871</td>\n",
       "      <td>1.195342</td>\n",
       "      <td>-0.810097</td>\n",
       "      <td>0.034769</td>\n",
       "      <td>-0.105369</td>\n",
       "      <td>-0.059679</td>\n",
       "      <td>...</td>\n",
       "      <td>-0.298730</td>\n",
       "      <td>0.472892</td>\n",
       "      <td>-0.649094</td>\n",
       "      <td>0.482074</td>\n",
       "      <td>0.792380</td>\n",
       "      <td>0.215663</td>\n",
       "      <td>-0.007322</td>\n",
       "      <td>0.233025</td>\n",
       "      <td>0.694201</td>\n",
       "      <td>0.369287</td>\n",
       "    </tr>\n",
       "    <tr>\n",
       "      <th>3</th>\n",
       "      <td>DEE1 RSV</td>\n",
       "      <td>0</td>\n",
       "      <td>Female</td>\n",
       "      <td>-24.0</td>\n",
       "      <td>0.113094</td>\n",
       "      <td>0.687830</td>\n",
       "      <td>-0.196206</td>\n",
       "      <td>-0.026274</td>\n",
       "      <td>0.060484</td>\n",
       "      <td>0.002662</td>\n",
       "      <td>...</td>\n",
       "      <td>-0.301905</td>\n",
       "      <td>1.386100</td>\n",
       "      <td>-0.699102</td>\n",
       "      <td>0.233604</td>\n",
       "      <td>0.158026</td>\n",
       "      <td>0.302497</td>\n",
       "      <td>-0.418574</td>\n",
       "      <td>0.419717</td>\n",
       "      <td>0.950535</td>\n",
       "      <td>0.168234</td>\n",
       "    </tr>\n",
       "    <tr>\n",
       "      <th>4</th>\n",
       "      <td>DEE1 RSV</td>\n",
       "      <td>1</td>\n",
       "      <td>Male</td>\n",
       "      <td>-24.0</td>\n",
       "      <td>-0.049889</td>\n",
       "      <td>1.438338</td>\n",
       "      <td>-0.649492</td>\n",
       "      <td>-0.270086</td>\n",
       "      <td>-0.394945</td>\n",
       "      <td>-0.301575</td>\n",
       "      <td>...</td>\n",
       "      <td>-0.541343</td>\n",
       "      <td>1.668968</td>\n",
       "      <td>-0.985323</td>\n",
       "      <td>0.457284</td>\n",
       "      <td>1.806791</td>\n",
       "      <td>0.279239</td>\n",
       "      <td>-1.107206</td>\n",
       "      <td>0.424421</td>\n",
       "      <td>1.264808</td>\n",
       "      <td>0.318149</td>\n",
       "    </tr>\n",
       "  </tbody>\n",
       "</table>\n",
       "<p>5 rows × 350 columns</p>\n",
       "</div>"
      ],
      "text/plain": [
       "    STUDYID  SHEDDING_SC1  GENDER  TIMEHOURS  207933_at  210446_at  \\\n",
       "0  DEE1 RSV             0    Male      -24.0   0.000000   0.000000   \n",
       "1  DEE1 RSV             1    Male      -24.0  -0.230741   1.325426   \n",
       "2  DEE1 RSV             0  Female      -24.0   0.047871   1.195342   \n",
       "3  DEE1 RSV             0  Female      -24.0   0.113094   0.687830   \n",
       "4  DEE1 RSV             1    Male      -24.0  -0.049889   1.438338   \n",
       "\n",
       "   203779_s_at  210395_x_at  210088_x_at  216054_x_at    ...      220151_at  \\\n",
       "0     0.000000     0.000000     0.000000     0.000000    ...       0.000000   \n",
       "1    -0.326484     0.324375     0.222276     0.259887    ...      -0.217919   \n",
       "2    -0.810097     0.034769    -0.105369    -0.059679    ...      -0.298730   \n",
       "3    -0.196206    -0.026274     0.060484     0.002662    ...      -0.301905   \n",
       "4    -0.649492    -0.270086    -0.394945    -0.301575    ...      -0.541343   \n",
       "\n",
       "   220486_x_at  209709_s_at  213582_at  205230_at  209958_s_at  205416_s_at  \\\n",
       "0     0.000000     0.000000   0.000000   0.000000     0.000000     0.000000   \n",
       "1     0.956177    -0.541783   0.395025   1.345264     0.034517    -0.739104   \n",
       "2     0.472892    -0.649094   0.482074   0.792380     0.215663    -0.007322   \n",
       "3     1.386100    -0.699102   0.233604   0.158026     0.302497    -0.418574   \n",
       "4     1.668968    -0.985323   0.457284   1.806791     0.279239    -1.107206   \n",
       "\n",
       "   217882_at  206600_s_at  221876_at  \n",
       "0   0.000000     0.000000   0.000000  \n",
       "1   0.852830     1.506976  -0.317745  \n",
       "2   0.233025     0.694201   0.369287  \n",
       "3   0.419717     0.950535   0.168234  \n",
       "4   0.424421     1.264808   0.318149  \n",
       "\n",
       "[5 rows x 350 columns]"
      ]
     },
     "execution_count": 69,
     "metadata": {},
     "output_type": "execute_result"
    }
   ],
   "source": [
    "training_data.head(5)"
   ]
  },
  {
   "cell_type": "code",
   "execution_count": 70,
   "metadata": {
    "collapsed": false
   },
   "outputs": [
    {
     "name": "stdout",
     "output_type": "stream",
     "text": [
      "0.608421052632\n",
      "[1 1 1 1 1 1 1 1 1 1 1 1 1 1 1 1 1 1 1 1 1 1 1 1 1 1 1 1 1 1 1 1 1]\n"
     ]
    }
   ],
   "source": [
    "from sklearn.naive_bayes import GaussianNB\n",
    "model = GaussianNB()\n",
    "from sklearn.cross_validation import train_test_split\n",
    "X_train,X_test,Y_train,Y_test = train_test_split(X,Y,test_size = 0.2)\n",
    "model.fit(X_train,Y_train)\n",
    "from sklearn import metrics\n",
    "predicted = model.predict(X_test)\n",
    "expected = Y_test\n",
    "print(metrics.accuracy_score(expected,predicted))\n",
    "pre= model.predict(h)\n",
    "print(pre)"
   ]
  },
  {
   "cell_type": "code",
   "execution_count": null,
   "metadata": {
    "collapsed": true
   },
   "outputs": [],
   "source": []
  }
 ],
 "metadata": {
  "kernelspec": {
   "display_name": "Python 2",
   "language": "python",
   "name": "python2"
  },
  "language_info": {
   "codemirror_mode": {
    "name": "ipython",
    "version": 2
   },
   "file_extension": ".py",
   "mimetype": "text/x-python",
   "name": "python",
   "nbconvert_exporter": "python",
   "pygments_lexer": "ipython2",
   "version": "2.7.13"
  }
 },
 "nbformat": 4,
 "nbformat_minor": 2
}
