{
 "cells": [
  {
   "cell_type": "code",
   "execution_count": 1,
   "metadata": {
    "collapsed": true
   },
   "outputs": [],
   "source": [
    "#Imports\n",
    "import numpy as np\n",
    "import pandas as pd\n",
    "import sklearn\n",
    "import matplotlib.pyplot as plt\n",
    "\n",
    "from sklearn import random_projection\n",
    "from sklearn import preprocessing\n",
    "from sklearn.svm import SVC\n",
    "from sklearn.ensemble import RandomForestClassifier\n",
    "from sklearn.linear_model import LogisticRegression\n",
    "from sklearn.naive_bayes import GaussianNB\n",
    "from sklearn.tree import DecisionTreeClassifier\n",
    "from sklearn.model_selection import train_test_split\n",
    "from sklearn import metrics\n",
    "\n",
    "\n",
    "DATA_BASE = \"data\\\\\""
   ]
  },
  {
   "cell_type": "code",
   "execution_count": 2,
   "metadata": {
    "collapsed": true
   },
   "outputs": [],
   "source": [
    "#Drop Unnecessary Columns from Output \n",
    "def process_outputcsv(fname):\n",
    "    \n",
    "    out_csv = pd.read_csv(DATA_BASE + fname)\n",
    "    cols = ['FEATUREID'] + list(out_csv.columns[1:])\n",
    "    out_csv.columns = cols\n",
    "    out_csv.drop('FEATUREID', axis=1, inplace=True)\n",
    "    \n",
    "    out_csv.fillna(lambda x: x.mean(), inplace=True)\n",
    "    out_csv_scaled = preprocessing.scale(out_csv.select_dtypes(include=['int64', 'float']))    \n",
    "    \n",
    "    return(out_csv_scaled)\n"
   ]
  },
  {
   "cell_type": "code",
   "execution_count": 3,
   "metadata": {
    "collapsed": true
   },
   "outputs": [],
   "source": [
    "#Drop Unnecessary Columns fro Clinical\n",
    "def process_clinical(fname, test=False):\n",
    "    \n",
    "    clinical_csv = pd.read_csv(DATA_BASE + fname)\n",
    "    cols = ['STUDYID'] + list(clinical_csv.columns[1:])\n",
    "    clinical_csv.columns = cols\n",
    "    \n",
    "    to_drop = [u'STUDYID', \n",
    "               u'SUBJECTID',\n",
    "               u'EARLYTX', \n",
    "               u'SHAM', \n",
    "               u'CEL',\n",
    "               u'SAMPLEID']\n",
    "    \n",
    "    clinical_csv.drop(to_drop, axis=1, inplace=True)\n",
    "    number = preprocessing.LabelEncoder()\n",
    "    \n",
    "    clinical_csv['GENDER'] = number.fit_transform(clinical_csv['GENDER'].astype('str'))\n",
    "    if test:\n",
    "       col_set = ['AGE', 'GENDER'] \n",
    "    else:\n",
    "       col_set = ['AGE', 'GENDER', 'SHEDDING_SC1', 'SYMPTOMATIC_SC2']\n",
    "    \n",
    "    clinical_csv[col_set] = clinical_csv[col_set].fillna(lambda x: x.mode())\n",
    "    nums_scaled = preprocessing.scale(clinical_csv.select_dtypes(include=['int64', 'float']))\n",
    "    y = []\n",
    "    \n",
    "    if test:\n",
    "       clinical_csv[u'AGE'] = nums_scaled[:, 0]\n",
    "       clinical_csv[u'TIMEHOURS'] = nums_scaled[:, 1]\n",
    "    else:\n",
    "       clinical_csv[u'AGE'] = nums_scaled[:, 0]\n",
    "       clinical_csv[u'TIMEHOURS'] = nums_scaled[:, 2]\n",
    "       \n",
    "       y = np.ravel(clinical_csv[u'SYMPTOMATIC_SC2'])\n",
    "       clinical_csv.drop([u'SHEDDING_SC1', u'SYMPTOMATIC_SC2', u'LOGSYMPTSCORE_SC3'], axis=1, inplace=True)\n",
    "    \n",
    "    return(clinical_csv, y)"
   ]
  },
  {
   "cell_type": "code",
   "execution_count": 4,
   "metadata": {
    "collapsed": true
   },
   "outputs": [],
   "source": [
    "#Reduce Dimensionlity\n",
    "def features_dim_reduction(X, method='Sparse'):\n",
    "    \n",
    "    print (\"Applying dimensionality reduction to X of shape:\")\n",
    "    print (X.shape)\n",
    "    print(\"Using %s Random Projector\" % (method))\n",
    "    \n",
    "    if method == 'Sparse':\n",
    "       txf = random_projection.SparseRandomProjection()       \n",
    "    elif method == 'Gaussian':\n",
    "       txf = random_projection.GaussianRandomProjection()\n",
    "    \n",
    "    X_reduced = txf.fit_transform(X)\n",
    "    print (\"Resulting reduced X shape of:\")\n",
    "    print (X_reduced.shape)\n",
    "    \n",
    "    return(X_reduced)"
   ]
  },
  {
   "cell_type": "code",
   "execution_count": 5,
   "metadata": {
    "collapsed": true
   },
   "outputs": [],
   "source": [
    "#Select Features using RndomForestClassifier\n",
    "def features_selection(X_reduced_train, X_reduced_test, y, num_features=100):\n",
    "    \n",
    "    clf = RandomForestClassifier()\n",
    "    clf.fit(X_reduced_train, y)\n",
    "    \n",
    "    importances = clf.feature_importances_\n",
    "    sorted_idx = np.flipud(np.argsort(importances))\n",
    "    best_feat_indexes = sorted_idx[:num_features]\n",
    "    \n",
    "    X_train = X_reduced_train[:, best_feat_indexes]\n",
    "    X_test = X_reduced_test[:, best_feat_indexes]\n",
    "    \n",
    "    return(X_train, y, X_test)\n"
   ]
  },
  {
   "cell_type": "code",
   "execution_count": 6,
   "metadata": {
    "collapsed": true
   },
   "outputs": [],
   "source": [
    "#Visualize Top 30 Features\n",
    "def visualize_topn_features(num_features=100, n=20):\n",
    "    \n",
    "    fname = 'output.csv'\n",
    "    \n",
    "    out_csv = pd.read_csv(DATA_BASE + fname)\n",
    "    cols = ['FEATUREID'] + list(out_csv.columns[1:])\n",
    "    out_csv.columns = cols\n",
    "    out_csv.drop('FEATUREID', axis=1, inplace=True)\n",
    "    out_csv.fillna(lambda x: x.mean(), inplace=True)\n",
    "    \n",
    "    X = out_csv.select_dtypes(include=['int64', 'float'])\n",
    "    _, y = process_clinical('Training.csv')\n",
    "    \n",
    "    clf = RandomForestClassifier()\n",
    "    clf.fit(X, y)\n",
    "    \n",
    "    importances = clf.feature_importances_\n",
    "    sorted_idx = np.flipud(np.argsort(importances))\n",
    "    best_feat_indexes = np.flipud(sorted_idx[:num_features])\n",
    "    \n",
    "    padding = np.arange(n) + 0.5\n",
    "    \n",
    "    plt.barh(padding, importances[best_feat_indexes[:n]], align='center')\n",
    "    plt.yticks(padding, X.columns[best_feat_indexes[:n]])\n",
    "    plt.xlabel(\"Relative Importance\")\n",
    "    plt.title(\"Variable Importance\")\n",
    "    plt.show()\n"
   ]
  },
  {
   "cell_type": "code",
   "execution_count": 7,
   "metadata": {
    "collapsed": true
   },
   "outputs": [],
   "source": [
    "# Store data in CSV for checking - Not a required step\n",
    "def store_data_into_csv(data, csvout):\n",
    "    out = open(csvout, 'w')\n",
    "    out.write(\"sep=;\\n\")\n",
    "    for row in data:\n",
    "        for column in row:\n",
    "            out.write(str(column)+\";\")\n",
    "            out.write('\\n')\n"
   ]
  },
  {
   "cell_type": "code",
   "execution_count": 8,
   "metadata": {
    "collapsed": true
   },
   "outputs": [],
   "source": [
    "# Prepare Test and Train Data via Dimensionally reduced data \n",
    "def prepare_train_test(save=True):\n",
    "    \n",
    "    train_csv, y = process_clinical('Training.csv')\n",
    "    trainout_csv = process_outputcsv('output.csv')\n",
    "    print train_csv.shape\n",
    "    print trainout_csv.shape    \n",
    "    test_csv, _ = process_clinical('Phase2_Clinical.csv', True)\n",
    "    testout_csv = process_outputcsv('Phas2Exp.csv')\n",
    "    print test_csv.shape\n",
    "    print testout_csv.shape\n",
    "    \n",
    "    X_raw_train = np.hstack([train_csv, trainout_csv])\n",
    "    X_raw_test = np.hstack([test_csv, testout_csv])\n",
    "    \n",
    "    X_raw = np.vstack([X_raw_train, X_raw_test])\n",
    "    X_reduced = features_dim_reduction(X_raw)\n",
    "    \n",
    "    X_reduced_train = X_reduced[:X_raw_train.shape[0], :]\n",
    "    X_reduced_test = X_reduced[X_raw_train.shape[0]:, :]\n",
    "    \n",
    "    X_train, y, X_test = features_selection(X_reduced_train, X_reduced_test, y)\n",
    "    \n",
    "    if save:\n",
    "       store_data_into_csv(X_train, \"x_train_Phase2.csv\")\n",
    "       store_data_into_csv(X_test, \"x_test_Phase2.csv\")\n",
    "    \n",
    "    return(X_train, y, X_test)\n"
   ]
  },
  {
   "cell_type": "code",
   "execution_count": 9,
   "metadata": {
    "collapsed": true
   },
   "outputs": [],
   "source": [
    "# Different Classifiers to Test the Accuracy of Predictions\n",
    "def models_building():\n",
    "    \n",
    "    svm = SVC()\n",
    "    nb = GaussianNB()\n",
    "    lr = LogisticRegression()\n",
    "    dtc = DecisionTreeClassifier(random_state=0)\n",
    "   \n",
    "    X_train, y, X_test = prepare_train_test()\n",
    "    x_train, x_test, y_train, y_test = train_test_split(X_train, y, test_size=0.3, random_state=2017)\n",
    "    \n",
    "    print \"Models training and evaluation on train set\"\n",
    "    \n",
    "    svm.fit(x_train, y_train)\n",
    "    nb.fit(x_train, y_train)\n",
    "    lr.fit(x_train, y_train)\n",
    "    dtc.fit(x_train, y_train)\n",
    "    \n",
    "    svm_train_pred = svm.predict(x_test)\n",
    "    nb_train_pred = nb.predict(x_test)\n",
    "    lr_train_pred = lr.predict(x_test)\n",
    "    dtc_train_pred = dtc.predict(x_test)\n",
    "    \n",
    "    print \"SVM Accuracy on Training phase's Test split\\n\"\n",
    "    print metrics.accuracy_score(y_test, svm_train_pred)\n",
    "    print \"Naive Bayes Accuracy on Training phase's Test split\\n\"\n",
    "    print metrics.accuracy_score(y_test, nb_train_pred)\n",
    "    print \"Logistic Regression Accuracy on Training phase's Test split\\n\"\n",
    "    print metrics.accuracy_score(y_test, lr_train_pred)  \n",
    "    print \"Decision Tree Accuracy on Training phase's Test split\\n\"\n",
    "    print metrics.accuracy_score(y_test, dtc_train_pred)\n",
    "    \n",
    "    svm_test_pred = svm.predict(X_test)\n",
    "    nb_test_pred = nb.predict(X_test)\n",
    "    lr_test_pred = lr.predict(X_test)\n",
    "    dtc_test_pred = dtc.predict(X_test)\n",
    "    \n",
    "    print svm_test_pred\n",
    "    print nb_test_pred\n",
    "    print lr_test_pred\n",
    "    print dtc_test_pred"
   ]
  },
  {
   "cell_type": "code",
   "execution_count": 10,
   "metadata": {
    "collapsed": false
   },
   "outputs": [
    {
     "name": "stdout",
     "output_type": "stream",
     "text": [
      "(2371, 3)\n",
      "(2371L, 22277L)\n",
      "(52, 3)\n",
      "(52L, 22277L)\n",
      "Applying dimensionality reduction to X of shape:\n",
      "(2423L, 22280L)\n",
      "Using Sparse Random Projector\n",
      "Resulting reduced X shape of:\n",
      "(2423L, 6679L)\n",
      "Models training and evaluation on train set\n",
      "SVM Accuracy on Training phase's Test split\n",
      "\n",
      "0.824438202247\n",
      "Naive Bayes Accuracy on Training phase's Test split\n",
      "\n",
      "0.671348314607\n",
      "Logistic Regression Accuracy on Training phase's Test split\n",
      "\n",
      "0.733146067416\n",
      "Decision Tree Accuracy on Training phase's Test split\n",
      "\n",
      "0.606741573034\n",
      "[1 1 0 1 1 1 0 0 0 0 0 0 0 0 0 1 1 1 1 0 1 1 0 1 1 0 1 1 1 1 0 1 1 1 0 1 1\n",
      " 1 1 0 1 1 1 1 1 1 1 1 1 1 1 1]\n",
      "[1 0 0 0 0 0 0 0 0 0 0 0 0 1 1 1 1 1 1 0 1 0 0 1 1 0 1 0 1 0 0 1 1 1 0 0 0\n",
      " 1 1 0 1 1 1 0 1 0 1 1 1 0 1 0]\n",
      "[1 1 0 1 0 1 0 0 0 0 1 0 0 1 1 1 0 0 1 1 1 1 0 1 0 1 1 0 1 1 0 1 1 0 0 0 1\n",
      " 1 1 0 1 1 1 0 1 1 1 0 1 1 1 1]\n",
      "[1 1 1 1 1 1 0 0 0 1 1 0 0 1 0 1 1 0 1 1 1 1 1 1 0 1 1 1 0 0 0 1 1 0 0 1 0\n",
      " 0 1 0 0 0 1 1 1 1 1 1 1 1 1 0]\n"
     ]
    }
   ],
   "source": [
    "if __name__=='__main__':\n",
    "   models_building()"
   ]
  },
  {
   "cell_type": "code",
   "execution_count": 11,
   "metadata": {
    "collapsed": false
   },
   "outputs": [
    {
     "data": {
      "image/png": "[encoded data removed]",
      "text/plain": [
       "<matplotlib.figure.Figure at 0xbd37710>"
      ]
     },
     "metadata": {},
     "output_type": "display_data"
    }
   ],
   "source": [
    "visualize_topn_features(num_features=100, n=30)"
   ]
  }
 ],
 "metadata": {
  "kernelspec": {
   "display_name": "Python 2",
   "language": "python",
   "name": "python2"
  },
  "language_info": {
   "codemirror_mode": {
    "name": "ipython",
    "version": 2
   },
   "file_extension": ".py",
   "mimetype": "text/x-python",
   "name": "python",
   "nbconvert_exporter": "python",
   "pygments_lexer": "ipython2",
   "version": "2.7.13"
  }
 },
 "nbformat": 4,
 "nbformat_minor": 2
}
