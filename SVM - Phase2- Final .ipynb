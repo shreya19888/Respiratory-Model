{
 "cells": [
  {
   "cell_type": "code",
   "execution_count": 64,
   "metadata": {
    "collapsed": true
   },
   "outputs": [],
   "source": [
    "#Files Needed\n",
    "#training_data_phase2.csv - Normalized and Preprocessed Training Data \n",
    "#testing_data_phase2.csv - Normalized  and Preprocessed Testing Data "
   ]
  },
  {
   "cell_type": "code",
   "execution_count": 65,
   "metadata": {
    "collapsed": true
   },
   "outputs": [],
   "source": [
    "#Imports \n",
    "import numpy as np\n",
    "import pandas as pd\n",
    "import matplotlib.pyplot as plt"
   ]
  },
  {
   "cell_type": "code",
   "execution_count": 66,
   "metadata": {
    "collapsed": true
   },
   "outputs": [],
   "source": [
    "import sklearn\n",
    "training_data = pd.read_csv('training_data_phase2.csv')\n",
    "h=pd.read_csv('testing_data_phase2.csv')\n",
    "training_data.head(5)\n",
    "X =training_data.drop('SYMPTOMATIC_SC2', axis=1)"
   ]
  },
  {
   "cell_type": "code",
   "execution_count": 67,
   "metadata": {
    "collapsed": true
   },
   "outputs": [],
   "source": [
    "Y = training_data.SYMPTOMATIC_SC2\n",
    "Y = np.ravel(Y)"
   ]
  },
  {
   "cell_type": "code",
   "execution_count": 68,
   "metadata": {
    "collapsed": true
   },
   "outputs": [],
   "source": [
    "from sklearn.preprocessing import LabelEncoder\n",
    "number = LabelEncoder()\n",
    "X['GENDER'] = number.fit_transform(training_data['GENDER'].astype('str'))\n",
    "X['STUDYID'] = number.fit_transform(training_data['STUDYID'].astype('str'))\n",
    "X = X.fillna(lambda x: x.median())"
   ]
  },
  {
   "cell_type": "code",
   "execution_count": 69,
   "metadata": {
    "collapsed": false
   },
   "outputs": [
    {
     "data": {
      "text/html": [
       "<div>\n",
       "<table border=\"1\" class=\"dataframe\">\n",
       "  <thead>\n",
       "    <tr style=\"text-align: right;\">\n",
       "      <th></th>\n",
       "      <th>STUDYID</th>\n",
       "      <th>GENDER</th>\n",
       "      <th>SYMPTOMATIC_SC2</th>\n",
       "      <th>200840_at</th>\n",
       "      <th>201236_s_at</th>\n",
       "      <th>201403_s_at</th>\n",
       "      <th>201594_s_at</th>\n",
       "      <th>201940_at</th>\n",
       "      <th>202187_s_at</th>\n",
       "      <th>202203_s_at</th>\n",
       "      <th>...</th>\n",
       "      <th>221805_at</th>\n",
       "      <th>221827_at</th>\n",
       "      <th>221916_at</th>\n",
       "      <th>221992_at</th>\n",
       "      <th>35820_at</th>\n",
       "      <th>41469_at</th>\n",
       "      <th>50314_i_at</th>\n",
       "      <th>205453_at</th>\n",
       "      <th>201533_at</th>\n",
       "      <th>201845_s_at</th>\n",
       "    </tr>\n",
       "  </thead>\n",
       "  <tbody>\n",
       "    <tr>\n",
       "      <th>0</th>\n",
       "      <td>0</td>\n",
       "      <td>1</td>\n",
       "      <td>0</td>\n",
       "      <td>11.681410</td>\n",
       "      <td>11.318159</td>\n",
       "      <td>10.345625</td>\n",
       "      <td>10.470323</td>\n",
       "      <td>8.929148</td>\n",
       "      <td>10.360040</td>\n",
       "      <td>8.694984</td>\n",
       "      <td>...</td>\n",
       "      <td>4.204162</td>\n",
       "      <td>8.746584</td>\n",
       "      <td>5.305464</td>\n",
       "      <td>7.949343</td>\n",
       "      <td>8.516406</td>\n",
       "      <td>9.491674</td>\n",
       "      <td>7.853160</td>\n",
       "      <td>8.637790</td>\n",
       "      <td>9.466459</td>\n",
       "      <td>9.856139</td>\n",
       "    </tr>\n",
       "    <tr>\n",
       "      <th>1</th>\n",
       "      <td>0</td>\n",
       "      <td>1</td>\n",
       "      <td>1</td>\n",
       "      <td>11.116866</td>\n",
       "      <td>11.206764</td>\n",
       "      <td>9.537078</td>\n",
       "      <td>11.227007</td>\n",
       "      <td>9.540921</td>\n",
       "      <td>10.090605</td>\n",
       "      <td>6.331046</td>\n",
       "      <td>...</td>\n",
       "      <td>4.047255</td>\n",
       "      <td>9.598260</td>\n",
       "      <td>5.187684</td>\n",
       "      <td>7.904961</td>\n",
       "      <td>8.471058</td>\n",
       "      <td>10.489676</td>\n",
       "      <td>7.421956</td>\n",
       "      <td>8.690231</td>\n",
       "      <td>8.421198</td>\n",
       "      <td>10.134097</td>\n",
       "    </tr>\n",
       "    <tr>\n",
       "      <th>2</th>\n",
       "      <td>0</td>\n",
       "      <td>0</td>\n",
       "      <td>0</td>\n",
       "      <td>11.842031</td>\n",
       "      <td>11.400999</td>\n",
       "      <td>10.267293</td>\n",
       "      <td>10.521722</td>\n",
       "      <td>8.366411</td>\n",
       "      <td>9.513955</td>\n",
       "      <td>8.731015</td>\n",
       "      <td>...</td>\n",
       "      <td>5.187134</td>\n",
       "      <td>9.424286</td>\n",
       "      <td>6.149227</td>\n",
       "      <td>8.478311</td>\n",
       "      <td>8.602989</td>\n",
       "      <td>10.420585</td>\n",
       "      <td>7.349781</td>\n",
       "      <td>8.495170</td>\n",
       "      <td>8.799911</td>\n",
       "      <td>9.758728</td>\n",
       "    </tr>\n",
       "    <tr>\n",
       "      <th>3</th>\n",
       "      <td>0</td>\n",
       "      <td>0</td>\n",
       "      <td>0</td>\n",
       "      <td>11.614784</td>\n",
       "      <td>11.814761</td>\n",
       "      <td>10.158881</td>\n",
       "      <td>11.089045</td>\n",
       "      <td>9.469757</td>\n",
       "      <td>10.354270</td>\n",
       "      <td>7.941086</td>\n",
       "      <td>...</td>\n",
       "      <td>5.150767</td>\n",
       "      <td>9.656197</td>\n",
       "      <td>5.972254</td>\n",
       "      <td>7.569749</td>\n",
       "      <td>10.023457</td>\n",
       "      <td>11.095293</td>\n",
       "      <td>7.664635</td>\n",
       "      <td>8.175366</td>\n",
       "      <td>9.054376</td>\n",
       "      <td>10.125098</td>\n",
       "    </tr>\n",
       "    <tr>\n",
       "      <th>4</th>\n",
       "      <td>0</td>\n",
       "      <td>1</td>\n",
       "      <td>1</td>\n",
       "      <td>11.691097</td>\n",
       "      <td>10.993885</td>\n",
       "      <td>10.061776</td>\n",
       "      <td>10.829100</td>\n",
       "      <td>8.758065</td>\n",
       "      <td>9.671269</td>\n",
       "      <td>4.968159</td>\n",
       "      <td>...</td>\n",
       "      <td>4.575995</td>\n",
       "      <td>9.734854</td>\n",
       "      <td>5.775326</td>\n",
       "      <td>7.900693</td>\n",
       "      <td>8.495629</td>\n",
       "      <td>11.917957</td>\n",
       "      <td>7.952901</td>\n",
       "      <td>8.995994</td>\n",
       "      <td>8.305224</td>\n",
       "      <td>9.634991</td>\n",
       "    </tr>\n",
       "  </tbody>\n",
       "</table>\n",
       "<p>5 rows × 102 columns</p>\n",
       "</div>"
      ],
      "text/plain": [
       "   STUDYID  GENDER  SYMPTOMATIC_SC2  200840_at  201236_s_at  201403_s_at  \\\n",
       "0        0       1                0  11.681410    11.318159    10.345625   \n",
       "1        0       1                1  11.116866    11.206764     9.537078   \n",
       "2        0       0                0  11.842031    11.400999    10.267293   \n",
       "3        0       0                0  11.614784    11.814761    10.158881   \n",
       "4        0       1                1  11.691097    10.993885    10.061776   \n",
       "\n",
       "   201594_s_at  201940_at  202187_s_at  202203_s_at     ...       221805_at  \\\n",
       "0    10.470323   8.929148    10.360040     8.694984     ...        4.204162   \n",
       "1    11.227007   9.540921    10.090605     6.331046     ...        4.047255   \n",
       "2    10.521722   8.366411     9.513955     8.731015     ...        5.187134   \n",
       "3    11.089045   9.469757    10.354270     7.941086     ...        5.150767   \n",
       "4    10.829100   8.758065     9.671269     4.968159     ...        4.575995   \n",
       "\n",
       "   221827_at  221916_at  221992_at   35820_at   41469_at  50314_i_at  \\\n",
       "0   8.746584   5.305464   7.949343   8.516406   9.491674    7.853160   \n",
       "1   9.598260   5.187684   7.904961   8.471058  10.489676    7.421956   \n",
       "2   9.424286   6.149227   8.478311   8.602989  10.420585    7.349781   \n",
       "3   9.656197   5.972254   7.569749  10.023457  11.095293    7.664635   \n",
       "4   9.734854   5.775326   7.900693   8.495629  11.917957    7.952901   \n",
       "\n",
       "   205453_at  201533_at  201845_s_at  \n",
       "0   8.637790   9.466459     9.856139  \n",
       "1   8.690231   8.421198    10.134097  \n",
       "2   8.495170   8.799911     9.758728  \n",
       "3   8.175366   9.054376    10.125098  \n",
       "4   8.995994   8.305224     9.634991  \n",
       "\n",
       "[5 rows x 102 columns]"
      ]
     },
     "execution_count": 69,
     "metadata": {},
     "output_type": "execute_result"
    }
   ],
   "source": [
    "training_data.head(5)"
   ]
  },
  {
   "cell_type": "code",
   "execution_count": 70,
   "metadata": {
    "collapsed": false
   },
   "outputs": [
    {
     "name": "stdout",
     "output_type": "stream",
     "text": [
      "0.926315789474\n",
      "[1 1 1 1 1 1 1 1 1 1 1 1 1 1 1 1 1 1 1 1 1 1 1 1 1 1 1 1 1 1 1 1 1 1 1 1 1\n",
      " 1 1 1 1 1 1 1 1 1 1 1 1 1 1 1]\n"
     ]
    }
   ],
   "source": [
    "from sklearn.svm import SVC\n",
    "model = SVC()\n",
    "from sklearn.cross_validation import train_test_split\n",
    "X_train,X_test,Y_train,Y_test = train_test_split(X,Y,test_size = 0.2)\n",
    "model.fit(X_train,Y_train)\n",
    "from sklearn import metrics\n",
    "predicted = model.predict(X_test)\n",
    "expected = Y_test\n",
    "print(metrics.accuracy_score(expected,predicted))\n",
    "pre= model.predict(h)\n",
    "print(pre)"
   ]
  }
 ],
 "metadata": {
  "kernelspec": {
   "display_name": "Python 2",
   "language": "python",
   "name": "python2"
  },
  "language_info": {
   "codemirror_mode": {
    "name": "ipython",
    "version": 2
   },
   "file_extension": ".py",
   "mimetype": "text/x-python",
   "name": "python",
   "nbconvert_exporter": "python",
   "pygments_lexer": "ipython2",
   "version": "2.7.13"
  }
 },
 "nbformat": 4,
 "nbformat_minor": 2
}
